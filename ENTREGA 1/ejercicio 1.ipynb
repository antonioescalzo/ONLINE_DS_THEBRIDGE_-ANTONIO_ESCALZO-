{
 "cells": [
  {
   "cell_type": "markdown",
   "id": "81d8f301-0b8e-466e-9a32-b017a8b15ac1",
   "metadata": {},
   "source": [
    "**Lo más importante**"
   ]
  },
  {
   "cell_type": "markdown",
   "id": "15457dab-3a10-49b4-b367-20e46d81d6c4",
   "metadata": {},
   "source": [
    "* Matemáticas\n",
    "* Python\n",
    "* SQL"
   ]
  },
  {
   "cell_type": "markdown",
   "id": "0b76d191-df56-4380-b2c6-c630f0fe85de",
   "metadata": {},
   "source": [
    "![ONLINE_DS_THEBRIDGE_-ANTONIO_ESCALZO-](./python.png)"
   ]
  },
  {
   "cell_type": "markdown",
   "id": "36aba67a-bdf6-4679-ae38-bd29ebdb62a7",
   "metadata": {},
   "source": [
    "Otro tema importante es el de *Business intelligence*"
   ]
  },
  {
   "cell_type": "markdown",
   "id": "49c00912-a9a0-40a2-82ce-fb519e3ced48",
   "metadata": {
    "collapsed": true,
    "jupyter": {
     "outputs_hidden": true
    }
   },
   "source": [
    "Si tienes dudas, puedes escribirme a: alberto.romero@thebridgeeschool.com"
   ]
  },
  {
   "cell_type": "markdown",
   "id": "a6e285d0-e38c-4a87-a09a-09f8e3090887",
   "metadata": {},
   "source": [
    "Y en esta página se aprende mucho de machine learning: **página con ML**"
   ]
  },
  {
   "cell_type": "code",
   "execution_count": null,
   "id": "ecd7be88-b06a-4858-9f7f-a7ccbd31f245",
   "metadata": {},
   "outputs": [],
   "source": []
  },
  {
   "cell_type": "code",
   "execution_count": null,
   "id": "d15a1976-ba55-4f4e-a7a5-b2eaec4907b4",
   "metadata": {},
   "outputs": [],
   "source": []
  }
 ],
 "metadata": {
  "kernelspec": {
   "display_name": "Python 3 (ipykernel)",
   "language": "python",
   "name": "python3"
  },
  "language_info": {
   "codemirror_mode": {
    "name": "ipython",
    "version": 3
   },
   "file_extension": ".py",
   "mimetype": "text/x-python",
   "name": "python",
   "nbconvert_exporter": "python",
   "pygments_lexer": "ipython3",
   "version": "3.10.11"
  }
 },
 "nbformat": 4,
 "nbformat_minor": 5
}
