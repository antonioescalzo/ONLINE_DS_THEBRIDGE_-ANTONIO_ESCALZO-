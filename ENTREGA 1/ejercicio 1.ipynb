   "id": "81d8f301-0b8e-466e-9a32-b017a8b15ac1",
   "source": [
  },
   "cell_type": "markdown",
   "id": "15457dab-3a10-49b4-b367-20e46d81d6c4",
