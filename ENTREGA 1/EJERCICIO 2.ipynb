{
 "cells": [
  {
   "cell_type": "markdown",
   "id": "ba43c369-0751-49e4-9dad-0493023bab87",
   "metadata": {},
   "source": [
    "|RAMP UP   | DATA ANALYSIS|  MACHINE LEARNIN| DATA & BUSINESS|\n",
    "|----------|--------------|-----------------|----------------|\n",
    "|PYTHON    |    EDA       |    SUPERVISED   |PRODCUTIVIZACION|\n",
    "|ESTDISTICA| R            | NON SUPERVISED  |  STORYTELLING  |\n",
    "|SQL       |FEAT ENG      | DEEP LEARNING   |  API           |"
   ]
  },
  {
   "cell_type": "code",
   "execution_count": null,
   "id": "7d2c6374-1def-434a-a061-45df3dd4bb20",
   "metadata": {},
   "outputs": [],
   "source": []
  }
 ],
 "metadata": {
  "kernelspec": {
   "display_name": "Python 3 (ipykernel)",
   "language": "python",
   "name": "python3"
  },
  "language_info": {
   "codemirror_mode": {
    "name": "ipython",
    "version": 3
   },
   "file_extension": ".py",
   "mimetype": "text/x-python",
   "name": "python",
   "nbconvert_exporter": "python",
   "pygments_lexer": "ipython3",
   "version": "3.10.11"
  }
 },
 "nbformat": 4,
 "nbformat_minor": 5
}
